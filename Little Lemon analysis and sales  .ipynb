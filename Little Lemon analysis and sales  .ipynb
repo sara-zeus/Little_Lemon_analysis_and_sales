{
 "cells": [
  {
   "cell_type": "code",
   "execution_count": 58,
   "id": "5679da1a",
   "metadata": {},
   "outputs": [
    {
     "name": "stdout",
     "output_type": "stream",
     "text": [
      "Requirement already satisfied: mysql-connector-python in ./lib/python3.10/site-packages (8.0.33)\n",
      "Requirement already satisfied: protobuf<=3.20.3,>=3.11.0 in ./lib/python3.10/site-packages (from mysql-connector-python) (3.20.3)\n",
      "\n",
      "\u001b[1m[\u001b[0m\u001b[34;49mnotice\u001b[0m\u001b[1;39;49m]\u001b[0m\u001b[39;49m A new release of pip available: \u001b[0m\u001b[31;49m22.3.1\u001b[0m\u001b[39;49m -> \u001b[0m\u001b[32;49m23.1.2\u001b[0m\n",
      "\u001b[1m[\u001b[0m\u001b[34;49mnotice\u001b[0m\u001b[1;39;49m]\u001b[0m\u001b[39;49m To update, run: \u001b[0m\u001b[32;49mpip install --upgrade pip\u001b[0m\n"
     ]
    }
   ],
   "source": [
    "!pip install mysql-connector-python \n",
    "\n"
   ]
  },
  {
   "cell_type": "code",
   "execution_count": 59,
   "id": "a59506e8",
   "metadata": {},
   "outputs": [],
   "source": [
    "import mysql.connector as connector\n",
    "\n"
   ]
  },
  {
   "cell_type": "code",
   "execution_count": 60,
   "id": "43391b70",
   "metadata": {},
   "outputs": [],
   "source": [
    "connection = connector.connect(host= 'localhost', user ='root', password= 'Yasara77', use_pure=True)"
   ]
  },
  {
   "cell_type": "code",
   "execution_count": 61,
   "id": "20c1e118",
   "metadata": {},
   "outputs": [
    {
     "name": "stdout",
     "output_type": "stream",
     "text": [
      "Connection between MySQL and Python is established.\n",
      "\n",
      "Cursor is created to communicate with the MySQL using Python.\n",
      "\n",
      "The database 'little_lemon_db' is created.\n",
      "\n"
     ]
    }
   ],
   "source": [
    "\n",
    "print(\"Connection between MySQL and Python is established.\\n\")\n",
    " \n",
    "cursor=connection.cursor() \n",
    "print(\"Cursor is created to communicate with the MySQL using Python.\\n\")\n",
    "\n",
    "try:\n",
    "    cursor.execute(\"CREATE DATABASE little_lemon_db\")\n",
    "except:\n",
    "    cursor.execute(\"DROP DATABASE little_lemon_db\")\n",
    "    cursor.execute(\"CREATE DATABASE little_lemon_db\")\n",
    "print(\"The database 'little_lemon_db' is created.\\n\")    \n",
    " "
   ]
  },
  {
   "cell_type": "code",
   "execution_count": 62,
   "id": "bf151914",
   "metadata": {},
   "outputs": [
    {
     "name": "stdout",
     "output_type": "stream",
     "text": [
      "('information_schema',)\n",
      "('little_lemon',)\n",
      "('little_lemon_db',)\n",
      "('mysql',)\n",
      "('performance_schema',)\n"
     ]
    }
   ],
   "source": [
    "cursor=connection.cursor()\n",
    "cursor.execute('SHOW DATABASES') \n",
    "data=cursor.fetchall()\n",
    "for i in data:\n",
    "    print(i)"
   ]
  },
  {
   "cell_type": "code",
   "execution_count": 63,
   "id": "441ad4ca",
   "metadata": {},
   "outputs": [
    {
     "name": "stdout",
     "output_type": "stream",
     "text": [
      "'little_lemon_db' is now in use \n"
     ]
    }
   ],
   "source": [
    "#Now use the little_lemon_db for use\n",
    "cursor.execute(\"USE little_lemon_db\") \n",
    "print(\"'little_lemon_db' is now in use \")"
   ]
  },
  {
   "cell_type": "code",
   "execution_count": 64,
   "id": "8f3f8829",
   "metadata": {},
   "outputs": [
    {
     "name": "stdout",
     "output_type": "stream",
     "text": [
      "The menuitem_table has been created\n",
      "Inserting data in MenuItems table.\n",
      "Total number of rows in MenuItem table: 17\n",
      "\n"
     ]
    }
   ],
   "source": [
    "#query for creating menu_item table\n",
    "create_menuitem_table=\"\"\" \n",
    "CREATE TABLE IF NOT EXISTS MenuItems\n",
    "(ItemID INT AUTO_INCREMENT, Name VARCHAR(200), Type VARCHAR(100), Price INT, PRIMARY KEY (ItemID) \n",
    ");\n",
    "\"\"\"\n",
    "# Create MenuItems table\n",
    "cursor.execute(create_menuitem_table)\n",
    "print(\"The menuitem_table has been created\")\n",
    "#now we need to insert data into it\n",
    "\n",
    "insert_menuitems=\"\"\"\n",
    "INSERT IGNORE INTO MenuItems (ItemID, Name, Type, Price)\n",
    "VALUES\n",
    "(1,'Olives','Starters',5),\n",
    "(2,'Flatbread','Starters', 5),\n",
    "(3, 'Minestrone', 'Starters', 8),\n",
    "(4, 'Tomato bread','Starters', 8),\n",
    "(5, 'Falafel', 'Starters', 7),\n",
    "(6, 'Hummus', 'Starters', 5),\n",
    "(7, 'Greek salad', 'Main Courses', 15),\n",
    "(8, 'Bean soup', 'Main Courses', 12),\n",
    "(9, 'Pizza', 'Main Courses', 15),\n",
    "(10,'Greek yoghurt','Desserts', 7),\n",
    "(11, 'Ice cream', 'Desserts', 6),\n",
    "(12, 'Cheesecake', 'Desserts', 4),\n",
    "(13, 'Athens White wine', 'Drinks', 25),\n",
    "(14, 'Corfu Red Wine', 'Drinks', 30),\n",
    "(15, 'Turkish Coffee', 'Drinks', 10),\n",
    "(16, 'Turkish Coffee', 'Drinks', 10),\n",
    "(17, 'Kabasa', 'Main Courses', 17);\"\"\"\n",
    "\n",
    "print(\"Inserting data in MenuItems table.\")\n",
    "# Populate MenuItems table\n",
    "cursor.execute(insert_menuitems)\n",
    "print(\"Total number of rows in MenuItem table: {}\\n\".format(cursor.rowcount))\n",
    "# Once the query is executed,  commit the change to the database \n",
    "connection.commit()\n",
    "\n",
    "\n",
    "\n"
   ]
  },
  {
   "cell_type": "code",
   "execution_count": 65,
   "id": "8c8a96d7",
   "metadata": {},
   "outputs": [
    {
     "name": "stdout",
     "output_type": "stream",
     "text": [
      "The booking_table has been created\n",
      "Inserting data in booking_table.\n"
     ]
    }
   ],
   "source": [
    "#query for creating booking_table\n",
    "\n",
    "\n",
    "Create_booking_table = \"\"\"CREATE TABLE IF NOT EXISTS Bookings (\n",
    "BookingID INT AUTO_INCREMENT,\n",
    "TableNo INT,\n",
    "GuestFirstName VARCHAR(100) NOT NULL,\n",
    "GuestLastName VARCHAR(100) NOT NULL,\n",
    "BookingSlot TIME NOT NULL,\n",
    "EmployeeID INT,\n",
    "PRIMARY KEY (BookingID)\n",
    ");\"\"\"\n",
    "\n",
    "\n",
    "\n",
    "\n",
    "\n",
    "# Create booking_table  \n",
    "cursor.execute(Create_booking_table)\n",
    "print(\"The booking_table has been created\")\n",
    "#now we need to insert data into it\n",
    "\n",
    "insert_bookings=\"\"\"\n",
    "INSERT IGNORE INTO Bookings (BookingID, TableNo, GuestFirstName, \n",
    "GuestLastName, BookingSlot, EmployeeID)\n",
    "VALUES\n",
    "(1, 12, 'Anna','Iversen','19:00:00',1),\n",
    "(2, 12, 'Joakim', 'Iversen', '19:00:00', 1),\n",
    "(3, 19, 'Vanessa', 'McCarthy', '15:00:00', 3),\n",
    "(4, 15, 'Marcos', 'Romero', '17:30:00', 4),\n",
    "(5, 5, 'Hiroki', 'Yamane', '18:30:00', 2),\n",
    "(6, 8, 'Diana', 'Pinto', '20:00:00', 5);\"\"\"\n",
    "\n",
    "\n",
    "print(\"Inserting data in booking_table.\")\n",
    "# Populate Bookings table\n",
    "cursor.execute(insert_bookings)\n",
    "connection.commit()\n",
    "\n",
    "\n",
    "\n",
    "\n",
    "\n"
   ]
  },
  {
   "cell_type": "code",
   "execution_count": 66,
   "id": "ab01f7a1",
   "metadata": {},
   "outputs": [
    {
     "name": "stdout",
     "output_type": "stream",
     "text": [
      "The orders_table has been created\n",
      "Inserting data in orders_table.\n"
     ]
    }
   ],
   "source": [
    "#query for creating orders_table\n",
    "\n",
    "\n",
    "create_orders_table = \"\"\"CREATE TABLE IF NOT EXISTS Orders (\n",
    "OrderID INT,\n",
    "TableNo INT,\n",
    "MenuID INT,\n",
    "BookingID INT,\n",
    "BillAmount INT,\n",
    "Quantity INT,\n",
    "PRIMARY KEY (OrderID,TableNo)\n",
    ");\"\"\"\n",
    "\n",
    "\n",
    "\n",
    "\n",
    "\n",
    "# Create orders_table \n",
    "cursor.execute(create_orders_table)\n",
    "print(\"The orders_table has been created\")\n",
    "#now we need to insert data into it\n",
    "\n",
    "insert_orders=\"\"\"\n",
    "INSERT IGNORE INTO Orders (OrderID, TableNo, MenuID, BookingID, Quantity, BillAmount)\n",
    "VALUES\n",
    "(1, 12, 1, 1, 2, 86),\n",
    "(2, 19, 2, 2, 1, 37),\n",
    "(3, 15, 2, 3, 1, 37),\n",
    "(4, 5, 3, 4, 1, 40),\n",
    "(5, 8, 1, 5, 1, 43);\"\"\" \n",
    "\n",
    "\n",
    "print(\"Inserting data in orders_table.\")\n",
    "# Populate Orders table\n",
    "cursor.execute(insert_orders)\n",
    "connection.commit() \n",
    "\n",
    "\n",
    "\n",
    "\n",
    "\n"
   ]
  },
  {
   "cell_type": "code",
   "execution_count": 67,
   "id": "5de09e4d",
   "metadata": {},
   "outputs": [
    {
     "name": "stdout",
     "output_type": "stream",
     "text": [
      "The employees_table has been created\n",
      "Inserting data in employees_table.\n"
     ]
    }
   ],
   "source": [
    "#query for creating employees_table \n",
    "\n",
    "\n",
    "create_employees_table=\"\"\"\n",
    "CREATE TABLE IF NOT EXISTS Employees (\n",
    "EmployeeID INT AUTO_INCREMENT,\n",
    "Name VARCHAR(200),\n",
    "Role VARCHAR(100),\n",
    "Address VARCHAR(200),\n",
    "Contact_Number INT,\n",
    "Email VARCHAR(100),\n",
    "Annual_Salary VARCHAR(100),\n",
    "PRIMARY KEY (EmployeeID)\n",
    ");\"\"\"\n",
    "\n",
    "\n",
    "\n",
    "\n",
    "\n",
    "\n",
    "# Create Employees table\n",
    "cursor.execute(create_employees_table) \n",
    "print(\"The employees_table has been created\")\n",
    "#now we need to insert data into it\n",
    "\n",
    "\n",
    "insert_employees=\"\"\"INSERT IGNORE INTO Employees (EmployeeID, Name, Role, Address, Contact_Number, Email, Annual_Salary)\n",
    "VALUES\n",
    "(01,'Mario Gollini','Manager','724, Parsley Lane, Old Town, Chicago, IL',351258074,'Mario.g@littlelemon.com','$70,000'),\n",
    "(02,'Adrian Gollini','Assistant Manager','334, Dill Square, Lincoln Park, Chicago, IL',351474048,'Adrian.g@littlelemon.com','$65,000'),\n",
    "(03,'Giorgos Dioudis','Head Chef','879 Sage Street, West Loop, Chicago, IL',351970582,'Giorgos.d@littlelemon.com','$50,000'),\n",
    "(04,'Fatma Kaya','Assistant Chef','132  Bay Lane, Chicago, IL',351963569,'Fatma.k@littlelemon.com','$45,000'),\n",
    "(05,'Elena Salvai','Head Waiter','989 Thyme Square, EdgeWater, Chicago, IL',351074198,'Elena.s@littlelemon.com','$40,000'),\n",
    "(06,'John Millar','Receptionist','245 Dill Square, Lincoln Park, Chicago, IL',351584508,'John.m@littlelemon.com','$35,000');\"\"\"\n",
    "\n",
    "\n",
    "\n",
    "print(\"Inserting data in employees_table.\")\n",
    "# Populate Employees table\n",
    "cursor.execute(insert_employees)\n",
    "connection.commit()\n",
    " \n",
    "\n",
    "\n",
    "\n",
    "\n",
    "\n",
    "\n"
   ]
  },
  {
   "cell_type": "code",
   "execution_count": 68,
   "id": "4f5b6fa6",
   "metadata": {},
   "outputs": [],
   "source": [
    "#Task 1: Establish a connection  "
   ]
  },
  {
   "cell_type": "code",
   "execution_count": 69,
   "id": "4395c20c",
   "metadata": {},
   "outputs": [
    {
     "name": "stdout",
     "output_type": "stream",
     "text": [
      "The connection pool is created with a name:  Pool_a\n",
      "The pool size is: 2\n",
      "Connectin… \n",
      "Creating a cursor object.\n"
     ]
    }
   ],
   "source": [
    "from mysql.connector.pooling import MySQLConnectionPool \n",
    "from mysql.connector import Error \n",
    "\n",
    "\n",
    "dbconfig={\"database\":\"little_lemon_db\", \"user\":\"root\", \"password\":\"Yasara77\"}\n",
    "\n",
    "#Create try/Except Block  \n",
    "try:\n",
    "\tpool= MySQLConnectionPool(pool_name =\"Pool_a\", pool_size=2 ,**dbconfig) \n",
    "\t\n",
    "\n",
    "\tprint(\"The connection pool is created with a name: \", pool.pool_name) \n",
    "\tprint(\"The pool size is:\" , pool.pool_size) \n",
    "\n",
    "except Error as er: \n",
    "\tprint(\"Error code:\" , er.errno) \n",
    "\tprint(\"Error message:\", er.msg)   \n",
    "\n",
    "# Get connection \n",
    "connection1 = pool.get_connection()\n",
    "print(\"Connectin… \")\n",
    "\n",
    "# Create cursor object to communicate with entire MySQL database\n",
    "print(\"Creating a cursor object.\")\n",
    "cursor = connection1.cursor()\n",
    "\n",
    "connection.close()\n",
    "\n",
    "\n",
    "\n"
   ]
  },
  {
   "cell_type": "code",
   "execution_count": 70,
   "id": "43712cd3",
   "metadata": {},
   "outputs": [],
   "source": [
    "#Task 2: Implement a stored procedure called PeakHours"
   ]
  },
  {
   "cell_type": "code",
   "execution_count": 71,
   "id": "04433a34",
   "metadata": {},
   "outputs": [
    {
     "name": "stdout",
     "output_type": "stream",
     "text": [
      "['Booking_Hour', 'n_Bookings']\n",
      "(19, 2)\n",
      "(15, 1)\n",
      "(17, 1)\n",
      "(18, 1)\n",
      "(20, 1)\n"
     ]
    }
   ],
   "source": [
    "\n",
    "connection = pool.get_connection()\n",
    "cursor=connection.cursor()\n",
    "cursor.execute(\"DROP PROCEDURE IF EXISTS PeakHours;\")\n",
    "#Create PROCEDURE PeakHours \n",
    "\n",
    "query_peak_hours = \"\"\"\n",
    "CREATE PROCEDURE PeakHours( ) \n",
    "BEGIN \n",
    "    SELECT \n",
    "    HOUR(BookingSlot) AS Booking_Hour,\n",
    "    COUNT(HOUR(BookingSlot)) AS n_Bookings\n",
    "    FROM Bookings\n",
    "    GROUP BY Booking_Hour\n",
    "    ORDER BY n_Bookings DESC;\n",
    "\n",
    "END\n",
    "\"\"\"\n",
    "#execute PROCEDURE PeakHours\n",
    "cursor.execute(query_peak_hours) \n",
    "# call it \n",
    "cursor.callproc(\"PeakHours\") \n",
    "#retrieve records in data \n",
    "results=next(cursor.stored_results()) \n",
    "datasets=results.fetchall( ) \n",
    "#get columns names using this for loop. \n",
    "for column_id in cursor.stored_results():\n",
    "    columns = [column[0] for column in column_id.description]\n",
    "#print columns \n",
    "print(columns)\n",
    "\n",
    " \n",
    "#print everything from the datasets \n",
    "\n",
    "for i in datasets:\n",
    "    print(i) \n",
    "\n",
    "\n"
   ]
  },
  {
   "cell_type": "code",
   "execution_count": 72,
   "id": "c7997f44",
   "metadata": {},
   "outputs": [],
   "source": [
    "# Task 3: Implement a stored procedure GuestStatus\n",
    "\n"
   ]
  },
  {
   "cell_type": "code",
   "execution_count": 73,
   "id": "c7365cf8",
   "metadata": {},
   "outputs": [
    {
     "name": "stdout",
     "output_type": "stream",
     "text": [
      "['Guest', 'Employee', 'BookingID', 'OrderStatuses']\n",
      "('Anna Iversen', 'Manager', 1, 'Ready to pay.')\n",
      "('Joakim Iversen', 'Manager', 2, 'Ready to pay.')\n",
      "('Vanessa McCarthy', 'Head Chef', 3, 'Ready to serve')\n",
      "('Marcos Romero', 'Assistant Chef', 4, 'Preparing Order')\n",
      "('Hiroki Yamane', 'Assistant Manager', 5, 'Ready to pay.')\n",
      "('Diana Pinto', 'Head Waiter', 6, 'Order served')\n"
     ]
    }
   ],
   "source": [
    "\n",
    "cursor.execute(\"DROP PROCEDURE IF EXISTS GuestStatus ;\")\n",
    "\n",
    "#create a GuestStatus Store Procedure. \n",
    "\n",
    "sql_query= \"\"\" \n",
    "CREATE PROCEDURE GuestStatus() \n",
    "BEGIN\n",
    "    SELECT \n",
    "        CONCAT(GuestFirstName, ' ', GuestLastName) AS Guest, \n",
    "        Role AS Employee,\n",
    "        Bookings.BookingID,\n",
    "        CASE \n",
    "            WHEN Role IN ('Manager', 'Assistant Manager') THEN 'Ready to pay.'\n",
    "            WHEN Role = 'Head Chef' THEN 'Ready to serve'\n",
    "            WHEN Role = 'Assistant Chef' THEN 'Preparing Order'\n",
    "            WHEN Role = 'Head Waiter' THEN 'Order served' \n",
    "            ELSE 'Order is Pending' \n",
    "        END AS OrderStatuses \n",
    "    FROM \n",
    "        Bookings \n",
    "        LEFT JOIN Employees ON Employees.EmployeeID = Bookings.EmployeeID; \n",
    "END;\n",
    "\n",
    "\n",
    "\"\"\"\n",
    "#execute the GuestStatus procedure \n",
    "cursor.execute(sql_query) \n",
    "#call it \n",
    "cursor.callproc(\"GuestStatus\")\n",
    "# retrieve everything\n",
    "results= next(cursor.stored_results()) \n",
    "dataset= results.fetchall() \n",
    "\n",
    "# get the names of the columns \n",
    "for column_id in cursor.stored_results():\n",
    "    columns = [column[0] for column in column_id.description] \n",
    "\n",
    "print(columns) \n",
    "#print the data \n",
    "\n",
    "\n",
    "for i in dataset:\n",
    "\tprint(i) \n",
    "\n",
    "\n",
    "\n",
    "\n",
    "\n"
   ]
  },
  {
   "cell_type": "code",
   "execution_count": 83,
   "id": "7851389c",
   "metadata": {},
   "outputs": [],
   "source": [
    "#Exercise 3: Little Lemon analysis and sales report "
   ]
  },
  {
   "cell_type": "code",
   "execution_count": 84,
   "id": "c24c0678",
   "metadata": {},
   "outputs": [],
   "source": [
    "#TASK 1 "
   ]
  },
  {
   "cell_type": "code",
   "execution_count": 101,
   "id": "ae9cd2b4",
   "metadata": {},
   "outputs": [
    {
     "name": "stdout",
     "output_type": "stream",
     "text": [
      "The connection pool name is: Pool_a\n",
      "The connection pool size is: 2\n"
     ]
    }
   ],
   "source": [
    "# First Import the MySQLConnectionPool class\n",
    "from mysql.connector.pooling import MySQLConnectionPool \n",
    "# Also Import the Error class \n",
    "from mysql.connector import Error \n",
    "# This is my data base configurations \n",
    "dbconfig= { \"database\" :\"little_lemon_db\",\"user\":\"root\",\"password\":\"Yasara77\"}\n",
    "\n",
    "#Create a try/except Block \n",
    "try: \n",
    "\tPool= MySQLConnectionPool(pool_name= \"pool_b\", pool_size= 2, **dbconfig )\n",
    "\tprint(\"The connection pool name is:\", pool.pool_name) \n",
    "\tprint(\"The connection pool size is:\", pool.pool_size)\n",
    "\n",
    "except Error as er: \n",
    "\tprint(\"Error code:\" , er.errno) \n",
    "\tprint(\"Error message:\", er.msg)\n",
    "    \n"
   ]
  },
  {
   "cell_type": "code",
   "execution_count": 103,
   "id": "948022ea",
   "metadata": {},
   "outputs": [],
   "source": [
    "import mysql.connector\n",
    "\n",
    "cnx = mysql.connector.connect(user='root', password='Yasara77')\n",
    "\n",
    "# Check if the connection is open and close it if it is\n",
    "if cnx.is_connected():\n",
    "    cnx.close()\n"
   ]
  },
  {
   "cell_type": "code",
   "execution_count": 104,
   "id": "9c7389cc",
   "metadata": {},
   "outputs": [],
   "source": [
    "#Task 2:\n",
    "\n",
    " "
   ]
  },
  {
   "cell_type": "code",
   "execution_count": 105,
   "id": "6aeaef31",
   "metadata": {},
   "outputs": [
    {
     "name": "stdout",
     "output_type": "stream",
     "text": [
      "A new booking is added in the \"Bookings\" table.\n",
      "A new booking is added in the \"Bookings\" table.\n",
      "Adding new connection in the pool.\n",
      "A new connection is added\n",
      "'connection3' is added in the pool.\n",
      "A new booking is added in the bookings table.\n",
      "Connection is returned to the pool\n",
      "Connection is returned to the pool\n",
      "\n",
      "Connection can't be returned to the pool\n",
      "Error message: Failed adding connection; queue is full\n"
     ]
    }
   ],
   "source": [
    "# Connect the 1st guest.\n",
    "connection1 = pool.get_connection()\n",
    "cursor1=connection1.cursor()\n",
    "booking1=\"\"\"INSERT INTO Bookings \n",
    "(TableNo, GuestFirstName, GuestLastName, BookingSlot, EmployeeID)\n",
    "VALUES\n",
    "(8,'Anees','Java','18:00:00',6);\"\"\"\n",
    "cursor1.execute(booking1)\n",
    "connection1.commit()\n",
    "print(\"\"\"A new booking is added in the \"Bookings\" table.\"\"\")\n",
    "\n",
    "# Connect the 2nd guest .\n",
    "connection2 = pool.get_connection()\n",
    "cursor2=connection2.cursor()\n",
    "booking2=\"\"\"INSERT INTO Bookings \n",
    "(TableNo, GuestFirstName, GuestLastName, BookingSlot, EmployeeID)\n",
    "VALUES\n",
    "(5, 'Bald','Vin','19:00:00',6);\"\"\"\n",
    "cursor2.execute(booking2)\n",
    "connection2.commit()\n",
    "print(\"\"\"A new booking is added in the \"Bookings\" table.\"\"\")\n",
    "\n",
    "# connectting the 3rd user... \n",
    "import mysql.connector as connector\n",
    "try:\n",
    "    connection3 = pool.get_connection()\n",
    "    print(\"The guest is connected\")\n",
    "except:\n",
    "    print(\"Adding new connection in the pool.\")\n",
    "        \n",
    "    # Create a connection\n",
    "    connection=connector.connect(user=\"root\",password=\"Yasara77\")\n",
    "    pool.add_connection(cnx=connection)\n",
    "    print(\"A new connection is added\")\n",
    "        \n",
    "    connection3 = pool.get_connection()\n",
    "    print(\"'connection3' is added in the pool.\")\n",
    "    \n",
    "# Connect the 3rd guest \n",
    "cursor3=connection3.cursor()\n",
    "booking3=\"\"\"INSERT INTO Bookings \n",
    "(TableNo, GuestFirstName, GuestLastName, BookingSlot, EmployeeID)\n",
    "VALUES\n",
    "(12, 'Jay','Kon','19:30:00',6);\"\"\"\n",
    "cursor3.execute(booking3)\n",
    "connection3.commit()\n",
    "print(\"A new booking is added in the bookings table.\")\n",
    "\n",
    "\n",
    "\n",
    "from mysql.connector import Error\n",
    "for i in [connection1,connection2, connection3]:\n",
    "    try:\n",
    "        i.close()\n",
    "        print(\"Connection is returned to the pool\")\n",
    "    except Error as er:\n",
    "        print(\"\\nConnection can't be returned to the pool\")\n",
    "        print(\"Error message:\", er.msg)\n"
   ]
  },
  {
   "cell_type": "code",
   "execution_count": 106,
   "id": "4db9bcf8",
   "metadata": {},
   "outputs": [],
   "source": [
    "#Task 3:\n",
    "\n"
   ]
  },
  {
   "cell_type": "code",
   "execution_count": 107,
   "id": "ba9a3dfa",
   "metadata": {},
   "outputs": [
    {
     "name": "stdout",
     "output_type": "stream",
     "text": [
      "The object 'connection' is created with a connection link from the pool_a\n",
      "The cursor object cursor is created.\n",
      "The name and EmployeeID of the Little Lemon manager\n",
      "('Name', 'EmployeeID')\n",
      "('Mario Gollini', 1)\n",
      "# The name and role of the employee who receives the highest salary.\n",
      "('Name', 'Role')\n",
      "('Mario Gollini', 'Manager')\n",
      "The number of guests booked between 18:00 and 20:00.\n",
      "('The bookings between 18:00 and 20:00',)\n",
      "(7,)\n"
     ]
    }
   ],
   "source": [
    "# First connect to the pool \n",
    "connection = pool.get_connection()\n",
    "print(\"The object 'connection' is created with a connection link from the pool_a\")\n",
    "# Create a cursor to communicate with the database \n",
    "cursor = connection.cursor()\n",
    "print(\"The cursor object cursor is created.\")\n",
    "\n",
    "# The name and EmployeeID of the Little Lemon manager. ",
    "\n",
    "cursor.execute(\"\"\"\n",
    "SELECT Name, EmployeeID \n",
    "FROM Employees\n",
    "WHERE Role = \"Manager\" \"\"\" ) \n",
    "      \n",
    "      \n",
    "results = cursor.fetchall() \n",
    "columns = cursor.column_names\n",
    "print(\"The name and EmployeeID of the Little Lemon manager\") \n",
    "print(columns)\n",
    "for i in results:\n",
    "    print(i)\n",
    "      \n",
    "# The name and role of the employee who receives the highest salary. ",
    "\n",
    "\n",
    "\n",
    "cursor.execute(\"\"\"\n",
    "SELECT Name, Role \n",
    "FROM Employees \n",
    "ORDER BY Annual_Salary DESC LIMIT 1;  \"\"\" ) \n",
    "      \n",
    "results = cursor.fetchall()\n",
    "columns = cursor.column_names\n",
    "print(\"# The name and role of the employee who receives the highest salary.\") \n",
    "print(columns)\n",
    "for result in results:\n",
    "    print(result)\n",
    "\n",
    "      \n",
    "# The number of guests booked between 18:00 and 20:00.\n",
    "cursor.execute(\"\"\" \n",
    "SELECT count(BookingID) AS \"The bookings between 18:00 and 20:00\" \n",
    "FROM Bookings  \n",
    "WHERE BookingSlot BETWEEN '18:00:00' AND '20:00:00'; \"\"\") \n",
    "      \n",
    "results = cursor.fetchall()\n",
    "columns = cursor.column_names\n",
    "print(\"The number of guests booked between 18:00 and 20:00.\") \n",
    "print(columns)\n",
    "for result in results:\n",
    "    print(result)\n",
    "\n",
    "      \n",
    "      \n",
    "# The full name and the BookingId of each guest waiting to be seated with the receptionist in sorted order with respect to their BookingSlot. ",
    "\n",
    "\n",
    "   \n",
    "cursor.execute(\"\"\" \n",
    "SELECT CONCAT(b.GuestFirstName, \" \", b.GuestLastName), b.BookingID AS ID, e.Role\n",
    "\n",
    "FROM Bookings b \n",
    "LEFT JOIN \n",
    "Employees e \n",
    "ON e.EmployeeID = b.EmployeeID\n",
    "WHERE e.Role = \"Receptionist\"\n",
    "ORDER BY BookingSlot DESC;\n",
    "\n",
    "\"\"\" )  \n",
    "      \n",
    "      \n"
   ]
  },
  {
   "cell_type": "code",
   "execution_count": 108,
   "id": "00528834",
   "metadata": {},
   "outputs": [],
   "source": [
    "#Task 4: "
   ]
  },
  {
   "cell_type": "code",
   "execution_count": 109,
   "id": "93ae2f0f",
   "metadata": {},
   "outputs": [
    {
     "name": "stdout",
     "output_type": "stream",
     "text": [
      "The object 'connection' is created with a connection link from the pool.\n",
      "The cursor object 'cursor' is created.\n",
      "The name and EmployeeID of the Little Lemon manager:\n",
      "('Name', 'EmployeeID')\n",
      "('Mario Gollini', 1)\n",
      "# The name and role of the employee who receives the highest salary.\n",
      "('Name', 'Role')\n",
      "('Mario Gollini', 'Manager')\n",
      "The number of guests booked between 18:00 and 20:00.\n",
      "('The bookings between 18:00 and 20:00',)\n",
      "(7,)\n",
      "The following guests are waiting to be seated:\n",
      "Guests to be seated:\n",
      "('Guest Name', 'ID', 'Employee')\n",
      "('Jay Kon', 9, 'Receptionist')\n",
      "('Bald Vin', 8, 'Receptionist')\n",
      "('Anees Java', 7, 'Receptionist')\n"
     ]
    }
   ],
   "source": [
    "# First connect to the pool\n",
    "connection = pool.get_connection()\n",
    "print(\"The object 'connection' is created with a connection link from the pool.\")\n",
    "\n",
    "# Create a cursor to communicate with the database\n",
    "cursor = connection.cursor()\n",
    "print(\"The cursor object 'cursor' is created.\")\n",
    "\n",
    "# The name and EmployeeID of the Little Lemon manager.\n",
    "cursor.execute(\"\"\"\n",
    "SELECT Name, EmployeeID \n",
    "FROM Employees\n",
    "WHERE Role= \"Manager\" \"\"\")\n",
    "\n",
    "results = cursor.fetchall()\n",
    "columns = cursor.column_names\n",
    "print(\"The name and EmployeeID of the Little Lemon manager:\")\n",
    "print(columns)\n",
    "for i in results:\n",
    "    print(i)\n",
    "\n",
    "# The name and role of the employee who receives the highest salary.\n",
    "cursor.execute(\"\"\"\n",
    "SELECT Name, Role \n",
    "FROM Employees \n",
    "ORDER BY Annual_Salary DESC LIMIT 1;\"\"\")\n",
    "\n",
    "results = cursor.fetchall()\n",
    "columns = cursor.column_names\n",
    "print(\"# The name and role of the employee who receives the highest salary.\")\n",
    "print(columns)\n",
    "for result in results:\n",
    "    print(result)\n",
    "\n",
    "# The number of guests booked between 18:00 and 20:00.\n",
    "cursor.execute(\"\"\" \n",
    "SELECT count(BookingID) AS \"The bookings between 18:00 and 20:00\" \n",
    "FROM Bookings  \n",
    "WHERE BookingSlot BETWEEN '18:00:00' AND '20:00:00';\"\"\")\n",
    "\n",
    "results = cursor.fetchall()\n",
    "columns = cursor.column_names\n",
    "print(\"The number of guests booked between 18:00 and 20:00.\")\n",
    "print(columns)\n",
    "for result in results:\n",
    "    print(result)\n",
    "\n",
    "# The full name and the BookingId of each guest waiting to be seated with the receptionist in sorted order with respect to their BookingSlot.\n",
    "cursor.execute(\"\"\" \n",
    "SELECT CONCAT(b.GuestFirstName, \" \" , b.GuestLastName) AS \"Guest Name\", b.BookingID AS ID, e.Role AS Employee\n",
    "FROM Bookings b \n",
    "LEFT JOIN Employees e ON e.EmployeeID=b.EmployeeID\n",
    "WHERE e.Role = \"Receptionist\"\n",
    "ORDER BY BookingSlot DESC;\"\"\")\n",
    "\n",
    "print(\"The following guests are waiting to be seated:\")\n",
    "results = cursor.fetchall()\n",
    "columns = cursor.column_names\n",
    "print(\"Guests to be seated:\")\n",
    "print(columns)\n",
    "for i in results:\n",
    "    print(i)\n",
    "\n",
    "# Close the connection\n",
    "connection.close()\n",
    "\n",
    "\n",
    "# Create and execute BasicSalesReport procedure\n",
    "cursor.execute(\"DROP PROCEDURE IF EXISTS BasicSalesReport;\")\n",
    "query_procedure = '''CREATE PROCEDURE BasicSalesReport()\n",
    "BEGIN \n",
    "SELECT SUM(BillAmount) AS TheTotalSales, AVG(BillAmount) AS TheAverageSale, MIN(BillAmount) AS TheMinimumBillPaid, MAX(BillAmount) AS TheMaximumBillPaid \n",
    "FROM Orders;\n",
    "END'''\n",
    "cursor.execute(query_procedure)\n",
    "cursor.callproc(\"BasicSalesReport\")\n",
    "results = next(cursor.stored_results())\n",
    " "
   ]
  },
  {
   "cell_type": "code",
   "execution_count": null,
   "id": "fdcd619e",
   "metadata": {},
   "outputs": [],
   "source": []
  },
  {
   "cell_type": "code",
   "execution_count": null,
   "id": "37cb2a40",
   "metadata": {},
   "outputs": [],
   "source": []
  }
 ],
 "metadata": {
  "kernelspec": {
   "display_name": "Python 3 (ipykernel)",
   "language": "python",
   "name": "python3"
  },
  "language_info": {
   "codemirror_mode": {
    "name": "ipython",
    "version": 3
   },
   "file_extension": ".py",
   "mimetype": "text/x-python",
   "name": "python",
   "nbconvert_exporter": "python",
   "pygments_lexer": "ipython3",
   "version": "3.10.9"
  }
 },
 "nbformat": 4,
 "nbformat_minor": 5
}
